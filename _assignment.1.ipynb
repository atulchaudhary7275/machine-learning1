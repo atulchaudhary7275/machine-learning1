{
 "cells": [
  {
   "cell_type": "code",
   "execution_count": null,
   "id": "dfe04e0b-e866-4d34-8d86-dd078f616286",
   "metadata": {},
   "outputs": [],
   "source": [
    "question1-explain the artifical intelligence\n",
    "\n",
    "ans1-artifical intelligence is a smart application that can perform it own task without any human intervention."
   ]
  },
  {
   "cell_type": "code",
   "execution_count": null,
   "id": "982384a5-7433-4440-970c-be0e2efe3fc1",
   "metadata": {},
   "outputs": [],
   "source": [
    "2-explain the machine learning\n",
    "\n",
    "ans-It is provide the algorithm of building mathematical models and making predictions using historical data or information"
   ]
  },
  {
   "cell_type": "code",
   "execution_count": null,
   "id": "aa1e0160-1dfb-463d-9a81-da40e932d41b",
   "metadata": {},
   "outputs": [],
   "source": [
    "3-explain the dep learning\n",
    "ans-mimic the human behaviour."
   ]
  },
  {
   "cell_type": "code",
   "execution_count": null,
   "id": "e1402108-c8b0-4be0-9e75-efd8773af14e",
   "metadata": {},
   "outputs": [],
   "source": [
    "question2-what is supervised learning.type the example of supervised learning.\n",
    "\n",
    "ans2-Supervised learning is the types of machine learning in which machines are trained using well \"labelled\" training data,\n",
    "and on basis of that data, machines predict the output. The labelled data means some input data is already tagged with the \n",
    "correct output.\n",
    "some example are there image classification ,spam filtering etc."
   ]
  },
  {
   "cell_type": "code",
   "execution_count": null,
   "id": "7ece128b-5e8d-40be-8c87-b2c0a1c104e4",
   "metadata": {},
   "outputs": [],
   "source": [
    "question3-unsupervised machine learning\n",
    "ans-group of similar data is known as unsupervised machine learning"
   ]
  },
  {
   "cell_type": "code",
   "execution_count": null,
   "id": "207ce6a3-9747-4751-8295-424900b7bd4e",
   "metadata": {},
   "outputs": [],
   "source": []
  }
 ],
 "metadata": {
  "kernelspec": {
   "display_name": "Python 3 (ipykernel)",
   "language": "python",
   "name": "python3"
  },
  "language_info": {
   "codemirror_mode": {
    "name": "ipython",
    "version": 3
   },
   "file_extension": ".py",
   "mimetype": "text/x-python",
   "name": "python",
   "nbconvert_exporter": "python",
   "pygments_lexer": "ipython3",
   "version": "3.10.8"
  }
 },
 "nbformat": 4,
 "nbformat_minor": 5
}

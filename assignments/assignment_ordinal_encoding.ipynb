{
 "cells": [
  {
   "cell_type": "code",
   "execution_count": null,
   "id": "3aad9926-df32-4059-9ff9-6c9061af069e",
   "metadata": {},
   "outputs": [],
   "source": [
    "Q1. What is the difference between Ordinal Encoding and Label Encoding? Provide an example of when you\n",
    "might choose one over the other.\n",
    "\n",
    "answer 1=In the Documentation it is given about sklearn.preprocessing.OrdinalEncoder() whereas in the book it was given\n",
    "about sklearn.preprocessing.LabelEncoder(), when I checked their functionality it looked same to me. Can Someone please \n",
    "tell me the difference between the two please?"
   ]
  },
  {
   "cell_type": "code",
   "execution_count": null,
   "id": "cd0f0acb-6513-4314-987f-ccd3122d46c4",
   "metadata": {},
   "outputs": [],
   "source": [
    "Q2. Explain how Target Guided Ordinal Encoding works and provide an example of when you might use it in\n",
    "a machine learning project.\n",
    "answer=import pandas as pd;\n",
    "data = [['Salt Lake City', 10, 120], ['Seattle', 5, 120], ['San Franscisco', 5, 140], \n",
    "        ['Seattle', 3, 100], ['Seattle', 1, 70], ['San Franscisco', 2, 100],['Salt Lake City', 1, 60], \n",
    "        ['San Franscisco', 2, 110], ['Seattle', 4, 100],['Salt Lake City', 2, 70] ]\n",
    "df = pd.DataFrame(data, columns = ['City', 'Years OF Exp','Yearly Salary in Thousands'])\n"
   ]
  },
  {
   "cell_type": "code",
   "execution_count": null,
   "id": "8eb4f818-f0cb-4d08-a68a-4f2f233492d8",
   "metadata": {},
   "outputs": [],
   "source": [
    "Q3. Define covariance and explain why it is important in statistical analysis. How is covariance calculated\n",
    "answer=Covariance is a measure of how much two random variables vary together. It’s similar to variance, but where\n",
    "variance tells you how a single variable varies, co variance tells you how two variables vary together.\n",
    "Covariance\n"
   ]
  }
 ],
 "metadata": {
  "kernelspec": {
   "display_name": "Julia 1.8.3",
   "language": "julia",
   "name": "julia-1.8"
  },
  "language_info": {
   "file_extension": ".jl",
   "mimetype": "application/julia",
   "name": "julia",
   "version": "1.8.3"
  }
 },
 "nbformat": 4,
 "nbformat_minor": 5
}

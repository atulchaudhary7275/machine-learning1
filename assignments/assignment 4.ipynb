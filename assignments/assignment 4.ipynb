{
 "cells": [
  {
   "cell_type": "code",
   "execution_count": null,
   "id": "b8fd5a04-91cb-4d5a-9cb6-9f8fa09d27e0",
   "metadata": {},
   "outputs": [],
   "source": [
    "question 1- What is Min-Max scaling, and how is it used in data preprocessing? Provide an example to illustrate its\n",
    "application.\n",
    "answer=MinMax Scaler is one of the most popular scaling algorithms. It transforms features by scaling each feature to a given\n",
    "range, which is generally [0,1], or [-1,-1] in case of negative values.\n",
    "\n",
    "Let’s look at an example of MinMax Scaler in Python. Consider, the following data:\n",
    "\n",
    "data = [[0,5],[2,13],[-3,7],[1,-4],[6,0]]\n",
    "Now, let’s scale this data using sklearn’s MinMax Scaler:\n",
    "\n",
    "from sklearn.preprocessing import MinMaxScaler\n",
    "\n",
    "mms = MinMaxScaler().fit(data)\n",
    "\n",
    "print(mms.transform(data))\n",
    "Output:\n",
    "\n",
    "[[0.33333333 0.52941176]\n",
    "[0.55555556 1. ]\n",
    "[0. 0.64705882]\n",
    "[0.44444444 0. ]\n",
    "[1. 0.23529412]]\n"
   ]
  },
  {
   "cell_type": "code",
   "execution_count": null,
   "id": "5adc3ea8-57ba-4038-9c6e-d6fb5e36746f",
   "metadata": {},
   "outputs": [],
   "source": [
    "Q2. What is the Unit Vector technique in feature scaling, and how does it differ from Min-Max scaling?\n",
    "Provide an example to illustrate its application.\n",
    "answer=unit vector magnitute has 1 is called unit vector.\n",
    "in min-max First, we are supposed to find the minimum and the maximum value of the column.\n",
    "Then we will subtract the minimum value from the entry and divide the result by the difference between the maximum and\n",
    "the minimum value.\n"
   ]
  },
  {
   "cell_type": "code",
   "execution_count": null,
   "id": "6a10782f-ddc3-41d8-925d-4814b153984a",
   "metadata": {},
   "outputs": [],
   "source": [
    "Q3. What is PCA (Principle Component Analysis), and how is it used in dimensionality reduction? Provide an\n",
    "example to illustrate its application.\n",
    "answer=Principal Component Analysis (PCA) is a powerful technique used in data analysis, particularly for reducing the \n",
    "dimensionality of datasets while preserving crucial information. It does this by transforming the original variables into a\n",
    "set of new, uncorrelated variables called principal components. "
   ]
  },
  {
   "cell_type": "code",
   "execution_count": null,
   "id": "2c47db16-b605-4282-bb2e-f43e46eb0481",
   "metadata": {},
   "outputs": [],
   "source": [
    "Q4. What is the relationship between PCA and Feature Extraction, and how can PCA be used for Feature\n",
    "Extraction? Provide an example to illustrate this concept.\n",
    "\n",
    "answer=Standardize the dataset: Standardizing / normalizing the dataset is the first step one would need to take before \n",
    "performing PCA. The PCA calculates a new projection of the given data set representing one or more features. The new axes \n",
    "are based on the standard deviation of the value of these features. So, a feature / variable with a high standard deviation \n",
    "will have a higher weight for the calculation of axis than a variable / feature with a low standard deviation. If the data\n",
    "is normalized / standardized, the standard deviation of all fetaures / variables get measured on the same scale. Thus, all \n",
    "variables have the same weight and PCA calculates relevant axis appropriately. Note that the data is standardized /\n",
    "normalized after creating training / test split. Python’s sklearn.preprocessing StandardScaler class can be used\n",
    "for standardizing the dataset"
   ]
  }
 ],
 "metadata": {
  "kernelspec": {
   "display_name": "Python 3 (ipykernel)",
   "language": "python",
   "name": "python3"
  },
  "language_info": {
   "codemirror_mode": {
    "name": "ipython",
    "version": 3
   },
   "file_extension": ".py",
   "mimetype": "text/x-python",
   "name": "python",
   "nbconvert_exporter": "python",
   "pygments_lexer": "ipython3",
   "version": "3.10.8"
  }
 },
 "nbformat": 4,
 "nbformat_minor": 5
}

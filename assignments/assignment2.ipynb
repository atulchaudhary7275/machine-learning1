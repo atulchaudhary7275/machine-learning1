{
 "cells": [
  {
   "cell_type": "code",
   "execution_count": null,
   "id": "da27533a-9de3-4810-b242-572740673f2e",
   "metadata": {},
   "outputs": [],
   "source": [
    "question 1=Define overfitting and underfitting in machine learning. What are the consequences of each, and how\n",
    "can they be mitigated?\n",
    "answer 1= under fitting-A machine learning algorithm is said to have underfitting when a model is too simple to capture \n",
    "data complexities\n",
    "overfitting-A statistical model is said to be overfitted when the model does not make accurate predictions on testing data."
   ]
  },
  {
   "cell_type": "code",
   "execution_count": null,
   "id": "015a41f2-8cd5-469e-9eb6-4d5eef7fe46e",
   "metadata": {},
   "outputs": [],
   "source": [
    "uestion=Q2: How can we reduce overfitting? Explain in brief.\n",
    "ans= we can reduce the overfitting through the low bias and high variance."
   ]
  },
  {
   "cell_type": "code",
   "execution_count": null,
   "id": "94777dc2-7523-4224-942a-9ee2fe85a172",
   "metadata": {},
   "outputs": [],
   "source": [
    "uestion 3=Explain underfitting. List scenarios where underfitting can occur in ML.\n",
    "answer3=A statistical model is said to be overfitted when the model does not make accurate predictions on testing data.\n",
    "underfitting is occur when  train data accuracy is low and test data should be also low so underfitting possibality will\n",
    "be occur\n"
   ]
  },
  {
   "cell_type": "code",
   "execution_count": null,
   "id": "67f81698-07ce-4a1e-ae4b-2181fc98a59f",
   "metadata": {},
   "outputs": [],
   "source": [
    "question4=Explain the bias-variance tradeoff in machine learning. What is the relationship between bias and\n",
    "variance, and how do they affect model performance?\n",
    "\n",
    "answer4=The bias-variance tradeoff in machine learning involves managing two types of errors. Bias arises from overly \n",
    "simplistic models, leading to underfitting, while variance results from complex models capturing noise, causing overfitting. "
   ]
  },
  {
   "cell_type": "code",
   "execution_count": null,
   "id": "9bfd30a6-7c1e-4d48-9c15-affb64a1d485",
   "metadata": {},
   "outputs": [],
   "source": [
    "Q5: Discuss some common methods for detecting overfitting and underfitting in machine learning models.\n",
    "How can you determine whether your model is overfitting or underfitting?\n",
    "\n",
    "answer5=Removing features,Training with more data are some common method for detecting the overfitting and underfitting."
   ]
  },
  {
   "cell_type": "code",
   "execution_count": null,
   "id": "74ca0561-b2ff-4f55-9fca-5fb70bce8b9a",
   "metadata": {},
   "outputs": [],
   "source": [
    "Q6:Compare and contrast bias and variance in machine learning. What are some examples of high bias\n",
    "and high variance models, and how do they differ in terms of their performance?\n",
    "\n",
    "answer 6=high bais and high variance are the example of underfitting.because of low test accuracy and low train accuracy."
   ]
  },
  {
   "cell_type": "code",
   "execution_count": null,
   "id": "ba047422-df4c-42f1-9245-d043780a5e13",
   "metadata": {},
   "outputs": [],
   "source": [
    "Q7:What is regularization in machine learning, and how can it be used to prevent overfitting? Describe\n",
    "some common regularization techniques and how they work.\n",
    "\n",
    "answer7= Regularization, meaning in the machine learning context, refers to minimizing or shrinking the coefficient \n",
    "estimates towards zero to avoid underfitting or overfitting the machine learning model.\n",
    "some common regularization techniques are Ridge Regularization (L2 Regularization),Lasso Regularization (L1 Regularization) \n",
    "Dropout Regularization.\n",
    "\n"
   ]
  },
  {
   "cell_type": "code",
   "execution_count": null,
   "id": "72368546-2997-4667-adc3-f0990ca15d62",
   "metadata": {},
   "outputs": [],
   "source": []
  },
  {
   "cell_type": "code",
   "execution_count": null,
   "id": "ff24fecc-3445-478a-9193-b53d48c36c92",
   "metadata": {},
   "outputs": [],
   "source": []
  }
 ],
 "metadata": {
  "kernelspec": {
   "display_name": "Python 3 (ipykernel)",
   "language": "python",
   "name": "python3"
  },
  "language_info": {
   "codemirror_mode": {
    "name": "ipython",
    "version": 3
   },
   "file_extension": ".py",
   "mimetype": "text/x-python",
   "name": "python",
   "nbconvert_exporter": "python",
   "pygments_lexer": "ipython3",
   "version": "3.10.8"
  }
 },
 "nbformat": 4,
 "nbformat_minor": 5
}
